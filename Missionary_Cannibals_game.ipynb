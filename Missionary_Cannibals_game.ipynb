{
  "nbformat": 4,
  "nbformat_minor": 0,
  "metadata": {
    "colab": {
      "provenance": []
    },
    "kernelspec": {
      "name": "python3",
      "display_name": "Python 3"
    },
    "language_info": {
      "name": "python"
    }
  },
  "cells": [
    {
      "cell_type": "code",
      "execution_count": null,
      "metadata": {
        "id": "4mBbdJSjEGNX"
      },
      "outputs": [],
      "source": [
        "\n",
        "from IPython.display import clear_output\n",
        "\n",
        "bs = \"right\" #0 left and 1 right #boat side\n",
        "mr = 3 #missionaries_on_right\n",
        "ml = 0 #missionaries_on_left\n",
        "cr = 3 #cannibals_on_right\n",
        "cl = 0 #cannibals_on_left\n",
        "\n",
        "print('\\U0001f482' * ml + '\\U0001f479' * cl + '|'  + '\\U0001f30a'*4 + '\\U0001f6A2'+ '|' + '\\U0001f482'*mr + '\\U0001f479'*cr )\n",
        "\n",
        "while True :\n",
        "  M = int(input(\"enter the number of missionaries on boat\"))\n",
        "  C = int(input(\"enter the number of cannibals on boat\"))\n",
        "  B = M + C #number of people on boat\n",
        "  if bs == 'right':\n",
        "    if B > 2 and B < 1 :\n",
        "      print('invalid move1')\n",
        "      continue\n",
        "\n",
        "      if C > cr and M > mr :\n",
        "\n",
        "        print('Invalid move 2')\n",
        "        continue\n",
        "    mr = mr - M\n",
        "    cr = cr - C\n",
        "    ml = ml + M\n",
        "    cl = cl + C\n",
        "    print('\\U0001f482' * ml + '\\U0001f479' * cl + '|' + '\\U0001f6A2' + '\\U0001f30a'*4 + '|' + '\\U0001f482'*mr + '\\U0001f479'*cr )\n",
        "    bs = 'left'\n",
        "\n",
        "  elif bs == 'left':\n",
        "      #print('boat is on left side')\n",
        "    if B > 2 and B < 1 :\n",
        "      print('invalid move1')\n",
        "      continue\n",
        "\n",
        "      if C > cl and M > ml :\n",
        "        continue\n",
        "        #print('it is a valid move')\n",
        "    ml = ml - M\n",
        "    cl = cl - C\n",
        "    mr = mr + M\n",
        "    cr = cr + C\n",
        "    print('\\U0001f482' * ml + '\\U0001f479' * cl + '|'  + '\\U0001f30a'*4 + '\\U0001f6A2'+ '|' + '\\U0001f482'*mr + '\\U0001f479'*cr )\n",
        "    bs = 'right'\n",
        "\n",
        "\n",
        "  if mr < cr and mr > 0 :\n",
        "    print(\"YOU LOSE\")\n",
        "    break\n",
        "\n",
        "  elif ml < cl and ml > 0 :\n",
        "    print(\"YOU LOSE\")\n",
        "    break\n",
        "\n",
        "  elif cl == 3 and ml == 3 :\n",
        "    print(\"YOU WIN\")\n",
        "    break\n"
      ]
    }
  ]
}